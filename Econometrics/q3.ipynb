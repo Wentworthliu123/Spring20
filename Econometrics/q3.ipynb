{
 "cells": [
  {
   "cell_type": "code",
   "execution_count": 1,
   "metadata": {},
   "outputs": [],
   "source": [
    "import numpy as np\n",
    "import pandas as pd\n",
    "import matplotlib.pyplot as plt\n",
    "import statsmodels.api as sm # import statsmodels \n",
    "from scipy.stats import percentileofscore\n",
    "from statsmodels.tsa.arima_process import ArmaProcess"
   ]
  },
  {
   "cell_type": "code",
   "execution_count": 2,
   "metadata": {},
   "outputs": [
    {
     "name": "stdout",
     "output_type": "stream",
     "text": [
      "76.9 percent of the t-stats are significant\n"
     ]
    },
    {
     "data": {
      "text/plain": [
       "Text(0.5, 1.0, 'Simulation of tvalues when observations = 100')"
      ]
     },
     "execution_count": 2,
     "metadata": {},
     "output_type": "execute_result"
    },
    {
     "data": {
      "image/png": "[encoded data removed]",
      "text/plain": [
       "<Figure size 576x396 with 1 Axes>"
      ]
     },
     "metadata": {},
     "output_type": "display_data"
    }
   ],
   "source": [
    "ar1 = [1, -0.99]\n",
    "ma0 = [1, 0]\n",
    "AR_object1 = ArmaProcess(ar1, ma0)\n",
    "np.random.seed(seed=1)\n",
    "observation = 100\n",
    "y = np.random.randn(10000, observation).cumsum(axis=1)\n",
    "x = np.random.randn(10000, observation).cumsum(axis=1)\n",
    "y = np.vstack((np.zeros(len(y)),y.T)).T\n",
    "x = np.vstack((np.zeros(len(x)),x.T)).T\n",
    "tvalue = []\n",
    "for i in range(10000):\n",
    "    # X = np.stack((np.array([1.0]*1000),np.array(y[0]))).T\n",
    "    Y = y[i]\n",
    "    X = sm.add_constant(x[i]) ## let's add an intercept (beta_0) to our model\n",
    "\n",
    "    # Note the difference in argument order\n",
    "    model = sm.OLS(Y, X).fit() ## sm.OLS(output, input)\n",
    "    predictions = model.predict(X)\n",
    "    tvalue.append(model.tvalues[1])\n",
    "significant = 100 - (percentileofscore(tvalue, 1.96) - percentileofscore(tvalue, -1.96))\n",
    "print('{} percent of the t-stats are significant'.format(round(significant,2)))\n",
    "plt.style.use('seaborn')\n",
    "plt.hist(tvalue)\n",
    "plt.title('Simulation of tvalues when observations = {}'.format(observation))\n"
   ]
  },
  {
   "cell_type": "code",
   "execution_count": 10,
   "metadata": {},
   "outputs": [],
   "source": []
  },
  {
   "cell_type": "code",
   "execution_count": 3,
   "metadata": {},
   "outputs": [
    {
     "name": "stdout",
     "output_type": "stream",
     "text": [
      "70.08 percent of the t-stats are significant\n"
     ]
    },
    {
     "data": {
      "text/plain": [
       "(array([2.400e+01, 2.260e+02, 1.092e+03, 3.614e+03, 3.687e+03, 1.150e+03,\n",
       "        1.790e+02, 2.600e+01, 1.000e+00, 1.000e+00]),\n",
       " array([-23.92031738, -17.96617874, -12.01204011,  -6.05790147,\n",
       "         -0.10376284,   5.85037579,  11.80451443,  17.75865306,\n",
       "         23.7127917 ,  29.66693033,  35.62106897]),\n",
       " <a list of 10 Patch objects>)"
      ]
     },
     "execution_count": 3,
     "metadata": {},
     "output_type": "execute_result"
    },
    {
     "data": {
      "image/png": "[encoded data removed]",
      "text/plain": [
       "<Figure size 576x396 with 1 Axes>"
      ]
     },
     "metadata": {},
     "output_type": "display_data"
    }
   ],
   "source": [
    "ar1 = [1, -0.99]\n",
    "ma0 = [1]\n",
    "AR_object = ArmaProcess(ar1, ma0)\n",
    "tvalue = []\n",
    "for i in range(10000):\n",
    "    Y = AR_object.generate_sample(100)\n",
    "    x = AR_object.generate_sample(100)\n",
    "    X = sm.add_constant(x)\n",
    "\n",
    "    # Note the difference in argument order\n",
    "    model = sm.OLS(Y, X).fit() ## sm.OLS(output, input)\n",
    "    predictions = model.predict(X)\n",
    "    tvalue.append(model.tvalues[1])\n",
    "significant = 100 - (percentileofscore(tvalue, 1.96) - percentileofscore(tvalue, -1.96))\n",
    "print('{} percent of the t-stats are significant'.format(round(significant,2)))\n",
    "plt.style.use('seaborn')\n",
    "plt.hist(tvalue)"
   ]
  },
  {
   "cell_type": "code",
   "execution_count": 8,
   "metadata": {},
   "outputs": [
    {
     "data": {
      "text/plain": [
       "array([[ 0.55334479,  1.90829163],\n",
       "       [-1.65718447,  0.63693024]])"
      ]
     },
     "execution_count": 8,
     "metadata": {},
     "output_type": "execute_result"
    }
   ],
   "source": [
    "np.random.randn(2,2)"
   ]
  },
  {
   "cell_type": "code",
   "execution_count": 9,
   "metadata": {},
   "outputs": [],
   "source": [
    "import array"
   ]
  },
  {
   "cell_type": "code",
   "execution_count": 12,
   "metadata": {},
   "outputs": [
    {
     "ename": "TypeError",
     "evalue": "array() takes at least 1 argument (0 given)",
     "output_type": "error",
     "traceback": [
      "\u001b[1;31m---------------------------------------------------------------------------\u001b[0m",
      "\u001b[1;31mTypeError\u001b[0m                                 Traceback (most recent call last)",
      "\u001b[1;32m<ipython-input-12-e3987c896af2>\u001b[0m in \u001b[0;36m<module>\u001b[1;34m\u001b[0m\n\u001b[1;32m----> 1\u001b[1;33m \u001b[0marray\u001b[0m\u001b[1;33m.\u001b[0m\u001b[0marray\u001b[0m\u001b[1;33m(\u001b[0m\u001b[1;33m)\u001b[0m\u001b[1;33m\u001b[0m\u001b[1;33m\u001b[0m\u001b[0m\n\u001b[0m",
      "\u001b[1;31mTypeError\u001b[0m: array() takes at least 1 argument (0 given)"
     ]
    }
   ],
   "source": [
    "array.array()"
   ]
  },
  {
   "cell_type": "code",
   "execution_count": 14,
   "metadata": {},
   "outputs": [
    {
     "data": {
      "text/plain": [
       "array('i', [8, 81])"
      ]
     },
     "execution_count": 14,
     "metadata": {},
     "output_type": "execute_result"
    }
   ],
   "source": [
    "a=array.array('i')#整数，b与i类似\n",
    "a.append(8)\n",
    "a.append(81)\n",
    "a"
   ]
  },
  {
   "cell_type": "code",
   "execution_count": 28,
   "metadata": {},
   "outputs": [
    {
     "name": "stdout",
     "output_type": "stream",
     "text": [
      "array('i', [8, 81])\n"
     ]
    }
   ],
   "source": [
    "a"
   ]
  },
  {
   "cell_type": "code",
   "execution_count": null,
   "metadata": {},
   "outputs": [],
   "source": []
  }
 ],
 "metadata": {
  "kernelspec": {
   "display_name": "Python 3",
   "language": "python",
   "name": "python3"
  },
  "language_info": {
   "codemirror_mode": {
    "name": "ipython",
    "version": 3
   },
   "file_extension": ".py",
   "mimetype": "text/x-python",
   "name": "python",
   "nbconvert_exporter": "python",
   "pygments_lexer": "ipython3",
   "version": "3.7.4"
  }
 },
 "nbformat": 4,
 "nbformat_minor": 4
}
